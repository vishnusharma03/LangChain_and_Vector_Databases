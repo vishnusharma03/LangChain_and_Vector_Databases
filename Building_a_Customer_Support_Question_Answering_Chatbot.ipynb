{
  "cells": [
    {
      "cell_type": "code",
      "execution_count": null,
      "id": "uNAFg0XeYP0N",
      "metadata": {
        "id": "uNAFg0XeYP0N"
      },
      "outputs": [],
      "source": [
        "!pip install langchain selenium unstructured openai deeplake tiktoken"
      ]
    },
    {
      "cell_type": "code",
      "execution_count": 7,
      "id": "ZzxjEbJeh7h0",
      "metadata": {
        "id": "ZzxjEbJeh7h0"
      },
      "outputs": [],
      "source": [
        "import os\n",
        "os.environ['OPENAI_API_KEY'] = \"\"\n",
        "os.environ['ACTIVELOOP_API_KEY'] = \"\""
      ]
    },
    {
      "cell_type": "code",
      "execution_count": 9,
      "id": "pJvC3TLFyEcq",
      "metadata": {
        "colab": {
          "base_uri": "https://localhost:8080/"
        },
        "id": "pJvC3TLFyEcq",
        "outputId": "840d52fe-810e-4c01-8c6c-fc35a7fa875c"
      },
      "outputs": [
        {
          "name": "stdout",
          "output_type": "stream",
          "text": [
            "Successfully logged in to Activeloop.\n"
          ]
        }
      ],
      "source": [
        "!activeloop login -t your_activeloop key"
      ]
    },
    {
      "cell_type": "code",
      "execution_count": 10,
      "id": "yMUH493ZkR8G",
      "metadata": {
        "id": "yMUH493ZkR8G"
      },
      "outputs": [],
      "source": [
        "# Import the necessary libraries\n",
        "from langchain import OpenAI\n",
        "from langchain.vectorstores import DeepLake\n",
        "from langchain.embeddings.openai import OpenAIEmbeddings\n",
        "from langchain import PromptTemplate\n",
        "from langchain.text_splitter import CharacterTextSplitter\n",
        "from langchain.document_loaders import SeleniumURLLoader"
      ]
    },
    {
      "cell_type": "code",
      "execution_count": 11,
      "id": "fd96176a-a69c-4d95-b7ac-d043a6dca89f",
      "metadata": {
        "id": "fd96176a-a69c-4d95-b7ac-d043a6dca89f"
      },
      "outputs": [],
      "source": [
        "# URLs from where the data will be fetched\n",
        "urls = [\n",
        "    \"https://timesofindia.indiatimes.com/india/chandrayaan-3-news-live-updates-isro-lunar-mission-mooon-landing-time-site-telecast-vikram-lander-photos/liveblog/102929797.cms\",\n",
        "    \"https://www.hindustantimes.com/india-news/chandrayaan-3-last-20-minutes-of-vikram-landers-journey-to-be-most-crucial-101692691970317.html\",\n",
        "    \"https://www.gadgets360.com/chandrayaan/features/chandrayaan-3-live-update-landing-date-time-august-23-latest-news-videos-4317977\",\n",
        "    \"https://www.abplive.com/states/up-uk/up-schools-will-open-for-one-hour-on-evening-of-august-23-decision-taken-regarding-chandrayaan-3-mission-2478624\",\n",
        "    \"https://www.space.com/chandrayaan-3-indian-moon-mission-rover\"\n",
        "    \"https://www.wionews.com/india-news/chandrayaan-3-landing-on-aug-27-does-india-have-plan-b-for-the-lunar-mission-627807\"\n",
        "]"
      ]
    },
    {
      "cell_type": "markdown",
      "id": "d894c048-b88c-40cb-9a4a-65431c2e4770",
      "metadata": {
        "id": "d894c048-b88c-40cb-9a4a-65431c2e4770"
      },
      "source": [
        "### Split the documents into chunks & compute their embeddings\n"
      ]
    },
    {
      "cell_type": "code",
      "execution_count": 12,
      "id": "719a237b-5aa6-43a4-a9eb-5243719f3951",
      "metadata": {
        "colab": {
          "base_uri": "https://localhost:8080/"
        },
        "id": "719a237b-5aa6-43a4-a9eb-5243719f3951",
        "outputId": "f49715d0-fd66-4207-9939-0b4069d98362"
      },
      "outputs": [
        {
          "name": "stderr",
          "output_type": "stream",
          "text": [
            "[nltk_data] Downloading package punkt to /root/nltk_data...\n",
            "[nltk_data]   Unzipping tokenizers/punkt.zip.\n",
            "[nltk_data] Downloading package averaged_perceptron_tagger to\n",
            "[nltk_data]     /root/nltk_data...\n",
            "[nltk_data]   Unzipping taggers/averaged_perceptron_tagger.zip.\n"
          ]
        }
      ],
      "source": [
        "## Dataloader\n",
        "dataloader = SeleniumURLLoader(urls=urls)\n",
        "data_load = dataloader.load()"
      ]
    },
    {
      "cell_type": "code",
      "execution_count": null,
      "id": "69be86d2-94ef-4c3d-93ee-7fa852a04f35",
      "metadata": {
        "colab": {
          "base_uri": "https://localhost:8080/"
        },
        "id": "69be86d2-94ef-4c3d-93ee-7fa852a04f35",
        "outputId": "8dd46abb-6dc7-429c-b512-2a130146a668"
      },
      "outputs": [
        {
          "name": "stderr",
          "output_type": "stream",
          "text": [
            "WARNING:langchain.text_splitter:Created a chunk of size 1144, which is longer than the specified 1000\n",
            "WARNING:langchain.text_splitter:Created a chunk of size 1144, which is longer than the specified 1000\n",
            "WARNING:langchain.text_splitter:Created a chunk of size 1370, which is longer than the specified 1000\n",
            "WARNING:langchain.text_splitter:Created a chunk of size 1363, which is longer than the specified 1000\n"
          ]
        },
        {
          "name": "stdout",
          "output_type": "stream",
          "text": [
            "Deep Lake Dataset in hub://vishnusharma7/Customer_Support_chatbot already exists, loading from the storage\n"
          ]
        }
      ],
      "source": [
        "## Text Splitter\n",
        "splitter = CharacterTextSplitter(chunk_size=1000, chunk_overlap=30)\n",
        "split = splitter.split_documents(data_load)\n"
      ]
    },
    {
      "cell_type": "code",
      "execution_count": 13,
      "id": "4x8v6GUXKSrE",
      "metadata": {
        "colab": {
          "base_uri": "https://localhost:8080/"
        },
        "id": "4x8v6GUXKSrE",
        "outputId": "fc40f0d2-d2c9-4458-c564-867ac52c4bda"
      },
      "outputs": [
        {
          "name": "stdout",
          "output_type": "stream",
          "text": [
            "Deep Lake Dataset in hub://vishnusharma7/Customer_Support_chatbot already exists, loading from the storage\n"
          ]
        }
      ],
      "source": [
        "## Embeddings\n",
        "embeddings = OpenAIEmbeddings(model='text-embedding-ada-002')\n",
        "\n",
        "activeloop_id = \"vishnusharma7\"\n",
        "activeloop_dataset = \"Customer_Support_chatbot\"\n",
        "dataset_path = f'hub://{activeloop_id}/{activeloop_dataset}'\n",
        "\n",
        "db = DeepLake(dataset_path=dataset_path, embedding=embeddings)"
      ]
    },
    {
      "cell_type": "code",
      "execution_count": null,
      "id": "P5ze4R5DmeoQ",
      "metadata": {
        "colab": {
          "base_uri": "https://localhost:8080/"
        },
        "id": "P5ze4R5DmeoQ",
        "outputId": "32e2f511-9b6e-4882-b7d7-fcfcc03014bf"
      },
      "outputs": [
        {
          "name": "stderr",
          "output_type": "stream",
          "text": [
            "Creating embedding data:  20%|██        | 3/15 [00:01<00:04,  2.60it/s]WARNING:langchain.embeddings.openai:Retrying langchain.embeddings.openai.embed_with_retry.<locals>._embed_with_retry in 4.0 seconds as it raised RateLimitError: Rate limit reached for default-text-embedding-ada-002 in organization org-UI2XgHYJMlcnd4QY1Nlbp1s6 on requests per min. Limit: 3 / min. Please try again in 20s. Contact us through our help center at help.openai.com if you continue to have issues. Please add a payment method to your account to increase your rate limit. Visit https://platform.openai.com/account/billing to add a payment method..\n",
            "WARNING:langchain.embeddings.openai:Retrying langchain.embeddings.openai.embed_with_retry.<locals>._embed_with_retry in 4.0 seconds as it raised RateLimitError: Rate limit reached for default-text-embedding-ada-002 in organization org-UI2XgHYJMlcnd4QY1Nlbp1s6 on requests per min. Limit: 3 / min. Please try again in 20s. Contact us through our help center at help.openai.com if you continue to have issues. Please add a payment method to your account to increase your rate limit. Visit https://platform.openai.com/account/billing to add a payment method..\n",
            "WARNING:langchain.embeddings.openai:Retrying langchain.embeddings.openai.embed_with_retry.<locals>._embed_with_retry in 4.0 seconds as it raised RateLimitError: Rate limit reached for default-text-embedding-ada-002 in organization org-UI2XgHYJMlcnd4QY1Nlbp1s6 on requests per min. Limit: 3 / min. Please try again in 20s. Contact us through our help center at help.openai.com if you continue to have issues. Please add a payment method to your account to increase your rate limit. Visit https://platform.openai.com/account/billing to add a payment method..\n",
            "WARNING:langchain.embeddings.openai:Retrying langchain.embeddings.openai.embed_with_retry.<locals>._embed_with_retry in 8.0 seconds as it raised RateLimitError: Rate limit reached for default-text-embedding-ada-002 in organization org-UI2XgHYJMlcnd4QY1Nlbp1s6 on requests per min. Limit: 3 / min. Please try again in 20s. Contact us through our help center at help.openai.com if you continue to have issues. Please add a payment method to your account to increase your rate limit. Visit https://platform.openai.com/account/billing to add a payment method..\n",
            "Creating embedding data:  27%|██▋       | 4/15 [00:21<01:32,  8.41s/it]WARNING:langchain.embeddings.openai:Retrying langchain.embeddings.openai.embed_with_retry.<locals>._embed_with_retry in 4.0 seconds as it raised RateLimitError: Rate limit reached for default-text-embedding-ada-002 in organization org-UI2XgHYJMlcnd4QY1Nlbp1s6 on requests per min. Limit: 3 / min. Please try again in 20s. Contact us through our help center at help.openai.com if you continue to have issues. Please add a payment method to your account to increase your rate limit. Visit https://platform.openai.com/account/billing to add a payment method..\n",
            "WARNING:langchain.embeddings.openai:Retrying langchain.embeddings.openai.embed_with_retry.<locals>._embed_with_retry in 4.0 seconds as it raised RateLimitError: Rate limit reached for default-text-embedding-ada-002 in organization org-UI2XgHYJMlcnd4QY1Nlbp1s6 on requests per min. Limit: 3 / min. Please try again in 20s. Contact us through our help center at help.openai.com if you continue to have issues. Please add a payment method to your account to increase your rate limit. Visit https://platform.openai.com/account/billing to add a payment method..\n",
            "WARNING:langchain.embeddings.openai:Retrying langchain.embeddings.openai.embed_with_retry.<locals>._embed_with_retry in 4.0 seconds as it raised RateLimitError: Rate limit reached for default-text-embedding-ada-002 in organization org-UI2XgHYJMlcnd4QY1Nlbp1s6 on requests per min. Limit: 3 / min. Please try again in 20s. Contact us through our help center at help.openai.com if you continue to have issues. Please add a payment method to your account to increase your rate limit. Visit https://platform.openai.com/account/billing to add a payment method..\n",
            "WARNING:langchain.embeddings.openai:Retrying langchain.embeddings.openai.embed_with_retry.<locals>._embed_with_retry in 8.0 seconds as it raised RateLimitError: Rate limit reached for default-text-embedding-ada-002 in organization org-UI2XgHYJMlcnd4QY1Nlbp1s6 on requests per min. Limit: 3 / min. Please try again in 20s. Contact us through our help center at help.openai.com if you continue to have issues. Please add a payment method to your account to increase your rate limit. Visit https://platform.openai.com/account/billing to add a payment method..\n",
            "Creating embedding data:  33%|███▎      | 5/15 [00:44<02:15, 13.52s/it]WARNING:langchain.embeddings.openai:Retrying langchain.embeddings.openai.embed_with_retry.<locals>._embed_with_retry in 4.0 seconds as it raised RateLimitError: Rate limit reached for default-text-embedding-ada-002 in organization org-UI2XgHYJMlcnd4QY1Nlbp1s6 on requests per min. Limit: 3 / min. Please try again in 20s. Contact us through our help center at help.openai.com if you continue to have issues. Please add a payment method to your account to increase your rate limit. Visit https://platform.openai.com/account/billing to add a payment method..\n",
            "WARNING:langchain.embeddings.openai:Retrying langchain.embeddings.openai.embed_with_retry.<locals>._embed_with_retry in 4.0 seconds as it raised RateLimitError: Rate limit reached for default-text-embedding-ada-002 in organization org-UI2XgHYJMlcnd4QY1Nlbp1s6 on requests per min. Limit: 3 / min. Please try again in 20s. Contact us through our help center at help.openai.com if you continue to have issues. Please add a payment method to your account to increase your rate limit. Visit https://platform.openai.com/account/billing to add a payment method..\n",
            "WARNING:langchain.embeddings.openai:Retrying langchain.embeddings.openai.embed_with_retry.<locals>._embed_with_retry in 4.0 seconds as it raised RateLimitError: Rate limit reached for default-text-embedding-ada-002 in organization org-UI2XgHYJMlcnd4QY1Nlbp1s6 on requests per min. Limit: 3 / min. Please try again in 20s. Contact us through our help center at help.openai.com if you continue to have issues. Please add a payment method to your account to increase your rate limit. Visit https://platform.openai.com/account/billing to add a payment method..\n",
            "WARNING:langchain.embeddings.openai:Retrying langchain.embeddings.openai.embed_with_retry.<locals>._embed_with_retry in 8.0 seconds as it raised RateLimitError: Rate limit reached for default-text-embedding-ada-002 in organization org-UI2XgHYJMlcnd4QY1Nlbp1s6 on requests per min. Limit: 3 / min. Please try again in 20s. Contact us through our help center at help.openai.com if you continue to have issues. Please add a payment method to your account to increase your rate limit. Visit https://platform.openai.com/account/billing to add a payment method..\n",
            "Creating embedding data:  40%|████      | 6/15 [01:05<02:24, 16.04s/it]WARNING:langchain.embeddings.openai:Retrying langchain.embeddings.openai.embed_with_retry.<locals>._embed_with_retry in 4.0 seconds as it raised RateLimitError: Rate limit reached for default-text-embedding-ada-002 in organization org-UI2XgHYJMlcnd4QY1Nlbp1s6 on requests per min. Limit: 3 / min. Please try again in 20s. Contact us through our help center at help.openai.com if you continue to have issues. Please add a payment method to your account to increase your rate limit. Visit https://platform.openai.com/account/billing to add a payment method..\n",
            "WARNING:langchain.embeddings.openai:Retrying langchain.embeddings.openai.embed_with_retry.<locals>._embed_with_retry in 4.0 seconds as it raised RateLimitError: Rate limit reached for default-text-embedding-ada-002 in organization org-UI2XgHYJMlcnd4QY1Nlbp1s6 on requests per min. Limit: 3 / min. Please try again in 20s. Contact us through our help center at help.openai.com if you continue to have issues. Please add a payment method to your account to increase your rate limit. Visit https://platform.openai.com/account/billing to add a payment method..\n",
            "WARNING:langchain.embeddings.openai:Retrying langchain.embeddings.openai.embed_with_retry.<locals>._embed_with_retry in 4.0 seconds as it raised RateLimitError: Rate limit reached for default-text-embedding-ada-002 in organization org-UI2XgHYJMlcnd4QY1Nlbp1s6 on requests per min. Limit: 3 / min. Please try again in 20s. Contact us through our help center at help.openai.com if you continue to have issues. Please add a payment method to your account to increase your rate limit. Visit https://platform.openai.com/account/billing to add a payment method..\n",
            "WARNING:langchain.embeddings.openai:Retrying langchain.embeddings.openai.embed_with_retry.<locals>._embed_with_retry in 8.0 seconds as it raised RateLimitError: Rate limit reached for default-text-embedding-ada-002 in organization org-UI2XgHYJMlcnd4QY1Nlbp1s6 on requests per min. Limit: 3 / min. Please try again in 20s. Contact us through our help center at help.openai.com if you continue to have issues. Please add a payment method to your account to increase your rate limit. Visit https://platform.openai.com/account/billing to add a payment method..\n",
            "Creating embedding data:  47%|████▋     | 7/15 [01:26<02:20, 17.56s/it]WARNING:langchain.embeddings.openai:Retrying langchain.embeddings.openai.embed_with_retry.<locals>._embed_with_retry in 4.0 seconds as it raised RateLimitError: Rate limit reached for default-text-embedding-ada-002 in organization org-UI2XgHYJMlcnd4QY1Nlbp1s6 on requests per min. Limit: 3 / min. Please try again in 20s. Contact us through our help center at help.openai.com if you continue to have issues. Please add a payment method to your account to increase your rate limit. Visit https://platform.openai.com/account/billing to add a payment method..\n",
            "WARNING:langchain.embeddings.openai:Retrying langchain.embeddings.openai.embed_with_retry.<locals>._embed_with_retry in 4.0 seconds as it raised RateLimitError: Rate limit reached for default-text-embedding-ada-002 in organization org-UI2XgHYJMlcnd4QY1Nlbp1s6 on requests per min. Limit: 3 / min. Please try again in 20s. Contact us through our help center at help.openai.com if you continue to have issues. Please add a payment method to your account to increase your rate limit. Visit https://platform.openai.com/account/billing to add a payment method..\n",
            "WARNING:langchain.embeddings.openai:Retrying langchain.embeddings.openai.embed_with_retry.<locals>._embed_with_retry in 4.0 seconds as it raised RateLimitError: Rate limit reached for default-text-embedding-ada-002 in organization org-UI2XgHYJMlcnd4QY1Nlbp1s6 on requests per min. Limit: 3 / min. Please try again in 20s. Contact us through our help center at help.openai.com if you continue to have issues. Please add a payment method to your account to increase your rate limit. Visit https://platform.openai.com/account/billing to add a payment method..\n",
            "WARNING:langchain.embeddings.openai:Retrying langchain.embeddings.openai.embed_with_retry.<locals>._embed_with_retry in 8.0 seconds as it raised RateLimitError: Rate limit reached for default-text-embedding-ada-002 in organization org-UI2XgHYJMlcnd4QY1Nlbp1s6 on requests per min. Limit: 3 / min. Please try again in 20s. Contact us through our help center at help.openai.com if you continue to have issues. Please add a payment method to your account to increase your rate limit. Visit https://platform.openai.com/account/billing to add a payment method..\n",
            "Creating embedding data:  53%|█████▎    | 8/15 [01:46<02:09, 18.51s/it]WARNING:langchain.embeddings.openai:Retrying langchain.embeddings.openai.embed_with_retry.<locals>._embed_with_retry in 4.0 seconds as it raised RateLimitError: Rate limit reached for default-text-embedding-ada-002 in organization org-UI2XgHYJMlcnd4QY1Nlbp1s6 on requests per min. Limit: 3 / min. Please try again in 20s. Contact us through our help center at help.openai.com if you continue to have issues. Please add a payment method to your account to increase your rate limit. Visit https://platform.openai.com/account/billing to add a payment method..\n",
            "WARNING:langchain.embeddings.openai:Retrying langchain.embeddings.openai.embed_with_retry.<locals>._embed_with_retry in 4.0 seconds as it raised RateLimitError: Rate limit reached for default-text-embedding-ada-002 in organization org-UI2XgHYJMlcnd4QY1Nlbp1s6 on requests per min. Limit: 3 / min. Please try again in 20s. Contact us through our help center at help.openai.com if you continue to have issues. Please add a payment method to your account to increase your rate limit. Visit https://platform.openai.com/account/billing to add a payment method..\n",
            "WARNING:langchain.embeddings.openai:Retrying langchain.embeddings.openai.embed_with_retry.<locals>._embed_with_retry in 4.0 seconds as it raised RateLimitError: Rate limit reached for default-text-embedding-ada-002 in organization org-UI2XgHYJMlcnd4QY1Nlbp1s6 on requests per min. Limit: 3 / min. Please try again in 20s. Contact us through our help center at help.openai.com if you continue to have issues. Please add a payment method to your account to increase your rate limit. Visit https://platform.openai.com/account/billing to add a payment method..\n",
            "WARNING:langchain.embeddings.openai:Retrying langchain.embeddings.openai.embed_with_retry.<locals>._embed_with_retry in 8.0 seconds as it raised RateLimitError: Rate limit reached for default-text-embedding-ada-002 in organization org-UI2XgHYJMlcnd4QY1Nlbp1s6 on requests per min. Limit: 3 / min. Please try again in 20s. Contact us through our help center at help.openai.com if you continue to have issues. Please add a payment method to your account to increase your rate limit. Visit https://platform.openai.com/account/billing to add a payment method..\n",
            "Creating embedding data:  60%|██████    | 9/15 [02:08<01:56, 19.40s/it]WARNING:langchain.embeddings.openai:Retrying langchain.embeddings.openai.embed_with_retry.<locals>._embed_with_retry in 4.0 seconds as it raised RateLimitError: Rate limit reached for default-text-embedding-ada-002 in organization org-UI2XgHYJMlcnd4QY1Nlbp1s6 on requests per min. Limit: 3 / min. Please try again in 20s. Contact us through our help center at help.openai.com if you continue to have issues. Please add a payment method to your account to increase your rate limit. Visit https://platform.openai.com/account/billing to add a payment method..\n",
            "WARNING:langchain.embeddings.openai:Retrying langchain.embeddings.openai.embed_with_retry.<locals>._embed_with_retry in 4.0 seconds as it raised RateLimitError: Rate limit reached for default-text-embedding-ada-002 in organization org-UI2XgHYJMlcnd4QY1Nlbp1s6 on requests per min. Limit: 3 / min. Please try again in 20s. Contact us through our help center at help.openai.com if you continue to have issues. Please add a payment method to your account to increase your rate limit. Visit https://platform.openai.com/account/billing to add a payment method..\n",
            "WARNING:langchain.embeddings.openai:Retrying langchain.embeddings.openai.embed_with_retry.<locals>._embed_with_retry in 4.0 seconds as it raised RateLimitError: Rate limit reached for default-text-embedding-ada-002 in organization org-UI2XgHYJMlcnd4QY1Nlbp1s6 on requests per min. Limit: 3 / min. Please try again in 20s. Contact us through our help center at help.openai.com if you continue to have issues. Please add a payment method to your account to increase your rate limit. Visit https://platform.openai.com/account/billing to add a payment method..\n",
            "Creating embedding data:  67%|██████▋   | 10/15 [02:20<01:26, 17.26s/it]WARNING:langchain.embeddings.openai:Retrying langchain.embeddings.openai.embed_with_retry.<locals>._embed_with_retry in 4.0 seconds as it raised RateLimitError: Rate limit reached for default-text-embedding-ada-002 in organization org-UI2XgHYJMlcnd4QY1Nlbp1s6 on requests per min. Limit: 3 / min. Please try again in 20s. Contact us through our help center at help.openai.com if you continue to have issues. Please add a payment method to your account to increase your rate limit. Visit https://platform.openai.com/account/billing to add a payment method..\n",
            "WARNING:langchain.embeddings.openai:Retrying langchain.embeddings.openai.embed_with_retry.<locals>._embed_with_retry in 4.0 seconds as it raised RateLimitError: Rate limit reached for default-text-embedding-ada-002 in organization org-UI2XgHYJMlcnd4QY1Nlbp1s6 on requests per min. Limit: 3 / min. Please try again in 20s. Contact us through our help center at help.openai.com if you continue to have issues. Please add a payment method to your account to increase your rate limit. Visit https://platform.openai.com/account/billing to add a payment method..\n",
            "WARNING:langchain.embeddings.openai:Retrying langchain.embeddings.openai.embed_with_retry.<locals>._embed_with_retry in 4.0 seconds as it raised RateLimitError: Rate limit reached for default-text-embedding-ada-002 in organization org-UI2XgHYJMlcnd4QY1Nlbp1s6 on requests per min. Limit: 3 / min. Please try again in 20s. Contact us through our help center at help.openai.com if you continue to have issues. Please add a payment method to your account to increase your rate limit. Visit https://platform.openai.com/account/billing to add a payment method..\n",
            "WARNING:langchain.embeddings.openai:Retrying langchain.embeddings.openai.embed_with_retry.<locals>._embed_with_retry in 8.0 seconds as it raised RateLimitError: Rate limit reached for default-text-embedding-ada-002 in organization org-UI2XgHYJMlcnd4QY1Nlbp1s6 on requests per min. Limit: 3 / min. Please try again in 20s. Contact us through our help center at help.openai.com if you continue to have issues. Please add a payment method to your account to increase your rate limit. Visit https://platform.openai.com/account/billing to add a payment method..\n",
            "Creating embedding data:  73%|███████▎  | 11/15 [02:41<01:13, 18.29s/it]WARNING:langchain.embeddings.openai:Retrying langchain.embeddings.openai.embed_with_retry.<locals>._embed_with_retry in 4.0 seconds as it raised RateLimitError: Rate limit reached for default-text-embedding-ada-002 in organization org-UI2XgHYJMlcnd4QY1Nlbp1s6 on requests per min. Limit: 3 / min. Please try again in 20s. Contact us through our help center at help.openai.com if you continue to have issues. Please add a payment method to your account to increase your rate limit. Visit https://platform.openai.com/account/billing to add a payment method..\n",
            "WARNING:langchain.embeddings.openai:Retrying langchain.embeddings.openai.embed_with_retry.<locals>._embed_with_retry in 4.0 seconds as it raised RateLimitError: Rate limit reached for default-text-embedding-ada-002 in organization org-UI2XgHYJMlcnd4QY1Nlbp1s6 on requests per min. Limit: 3 / min. Please try again in 20s. Contact us through our help center at help.openai.com if you continue to have issues. Please add a payment method to your account to increase your rate limit. Visit https://platform.openai.com/account/billing to add a payment method..\n",
            "WARNING:langchain.embeddings.openai:Retrying langchain.embeddings.openai.embed_with_retry.<locals>._embed_with_retry in 4.0 seconds as it raised RateLimitError: Rate limit reached for default-text-embedding-ada-002 in organization org-UI2XgHYJMlcnd4QY1Nlbp1s6 on requests per min. Limit: 3 / min. Please try again in 20s. Contact us through our help center at help.openai.com if you continue to have issues. Please add a payment method to your account to increase your rate limit. Visit https://platform.openai.com/account/billing to add a payment method..\n",
            "WARNING:langchain.embeddings.openai:Retrying langchain.embeddings.openai.embed_with_retry.<locals>._embed_with_retry in 8.0 seconds as it raised RateLimitError: Rate limit reached for default-text-embedding-ada-002 in organization org-UI2XgHYJMlcnd4QY1Nlbp1s6 on requests per min. Limit: 3 / min. Please try again in 20s. Contact us through our help center at help.openai.com if you continue to have issues. Please add a payment method to your account to increase your rate limit. Visit https://platform.openai.com/account/billing to add a payment method..\n",
            "Creating embedding data:  80%|████████  | 12/15 [03:01<00:57, 19.02s/it]WARNING:langchain.embeddings.openai:Retrying langchain.embeddings.openai.embed_with_retry.<locals>._embed_with_retry in 4.0 seconds as it raised RateLimitError: Rate limit reached for default-text-embedding-ada-002 in organization org-UI2XgHYJMlcnd4QY1Nlbp1s6 on requests per min. Limit: 3 / min. Please try again in 20s. Contact us through our help center at help.openai.com if you continue to have issues. Please add a payment method to your account to increase your rate limit. Visit https://platform.openai.com/account/billing to add a payment method..\n",
            "WARNING:langchain.embeddings.openai:Retrying langchain.embeddings.openai.embed_with_retry.<locals>._embed_with_retry in 4.0 seconds as it raised RateLimitError: Rate limit reached for default-text-embedding-ada-002 in organization org-UI2XgHYJMlcnd4QY1Nlbp1s6 on requests per min. Limit: 3 / min. Please try again in 20s. Contact us through our help center at help.openai.com if you continue to have issues. Please add a payment method to your account to increase your rate limit. Visit https://platform.openai.com/account/billing to add a payment method..\n",
            "WARNING:langchain.embeddings.openai:Retrying langchain.embeddings.openai.embed_with_retry.<locals>._embed_with_retry in 4.0 seconds as it raised RateLimitError: Rate limit reached for default-text-embedding-ada-002 in organization org-UI2XgHYJMlcnd4QY1Nlbp1s6 on requests per min. Limit: 3 / min. Please try again in 20s. Contact us through our help center at help.openai.com if you continue to have issues. Please add a payment method to your account to increase your rate limit. Visit https://platform.openai.com/account/billing to add a payment method..\n",
            "WARNING:langchain.embeddings.openai:Retrying langchain.embeddings.openai.embed_with_retry.<locals>._embed_with_retry in 8.0 seconds as it raised RateLimitError: Rate limit reached for default-text-embedding-ada-002 in organization org-UI2XgHYJMlcnd4QY1Nlbp1s6 on requests per min. Limit: 3 / min. Please try again in 20s. Contact us through our help center at help.openai.com if you continue to have issues. Please add a payment method to your account to increase your rate limit. Visit https://platform.openai.com/account/billing to add a payment method..\n",
            "Creating embedding data:  87%|████████▋ | 13/15 [03:22<00:39, 19.52s/it]WARNING:langchain.embeddings.openai:Retrying langchain.embeddings.openai.embed_with_retry.<locals>._embed_with_retry in 4.0 seconds as it raised RateLimitError: Rate limit reached for default-text-embedding-ada-002 in organization org-UI2XgHYJMlcnd4QY1Nlbp1s6 on requests per min. Limit: 3 / min. Please try again in 20s. Contact us through our help center at help.openai.com if you continue to have issues. Please add a payment method to your account to increase your rate limit. Visit https://platform.openai.com/account/billing to add a payment method..\n",
            "WARNING:langchain.embeddings.openai:Retrying langchain.embeddings.openai.embed_with_retry.<locals>._embed_with_retry in 4.0 seconds as it raised RateLimitError: Rate limit reached for default-text-embedding-ada-002 in organization org-UI2XgHYJMlcnd4QY1Nlbp1s6 on requests per min. Limit: 3 / min. Please try again in 20s. Contact us through our help center at help.openai.com if you continue to have issues. Please add a payment method to your account to increase your rate limit. Visit https://platform.openai.com/account/billing to add a payment method..\n",
            "WARNING:langchain.embeddings.openai:Retrying langchain.embeddings.openai.embed_with_retry.<locals>._embed_with_retry in 4.0 seconds as it raised RateLimitError: Rate limit reached for default-text-embedding-ada-002 in organization org-UI2XgHYJMlcnd4QY1Nlbp1s6 on requests per min. Limit: 3 / min. Please try again in 20s. Contact us through our help center at help.openai.com if you continue to have issues. Please add a payment method to your account to increase your rate limit. Visit https://platform.openai.com/account/billing to add a payment method..\n",
            "WARNING:langchain.embeddings.openai:Retrying langchain.embeddings.openai.embed_with_retry.<locals>._embed_with_retry in 8.0 seconds as it raised RateLimitError: Rate limit reached for default-text-embedding-ada-002 in organization org-UI2XgHYJMlcnd4QY1Nlbp1s6 on requests per min. Limit: 3 / min. Please try again in 20s. Contact us through our help center at help.openai.com if you continue to have issues. Please add a payment method to your account to increase your rate limit. Visit https://platform.openai.com/account/billing to add a payment method..\n",
            "Creating embedding data:  93%|█████████▎| 14/15 [03:43<00:19, 19.88s/it]WARNING:langchain.embeddings.openai:Retrying langchain.embeddings.openai.embed_with_retry.<locals>._embed_with_retry in 4.0 seconds as it raised RateLimitError: Rate limit reached for default-text-embedding-ada-002 in organization org-UI2XgHYJMlcnd4QY1Nlbp1s6 on requests per min. Limit: 3 / min. Please try again in 20s. Contact us through our help center at help.openai.com if you continue to have issues. Please add a payment method to your account to increase your rate limit. Visit https://platform.openai.com/account/billing to add a payment method..\n",
            "WARNING:langchain.embeddings.openai:Retrying langchain.embeddings.openai.embed_with_retry.<locals>._embed_with_retry in 4.0 seconds as it raised RateLimitError: Rate limit reached for default-text-embedding-ada-002 in organization org-UI2XgHYJMlcnd4QY1Nlbp1s6 on requests per min. Limit: 3 / min. Please try again in 20s. Contact us through our help center at help.openai.com if you continue to have issues. Please add a payment method to your account to increase your rate limit. Visit https://platform.openai.com/account/billing to add a payment method..\n",
            "WARNING:langchain.embeddings.openai:Retrying langchain.embeddings.openai.embed_with_retry.<locals>._embed_with_retry in 4.0 seconds as it raised RateLimitError: Rate limit reached for default-text-embedding-ada-002 in organization org-UI2XgHYJMlcnd4QY1Nlbp1s6 on requests per min. Limit: 3 / min. Please try again in 20s. Contact us through our help center at help.openai.com if you continue to have issues. Please add a payment method to your account to increase your rate limit. Visit https://platform.openai.com/account/billing to add a payment method..\n",
            "WARNING:langchain.embeddings.openai:Retrying langchain.embeddings.openai.embed_with_retry.<locals>._embed_with_retry in 8.0 seconds as it raised RateLimitError: Rate limit reached for default-text-embedding-ada-002 in organization org-UI2XgHYJMlcnd4QY1Nlbp1s6 on requests per min. Limit: 3 / min. Please try again in 20s. Contact us through our help center at help.openai.com if you continue to have issues. Please add a payment method to your account to increase your rate limit. Visit https://platform.openai.com/account/billing to add a payment method..\n",
            "Creating embedding data: 100%|██████████| 15/15 [04:03<00:00, 16.25s/it]\n",
            "\\"
          ]
        },
        {
          "name": "stdout",
          "output_type": "stream",
          "text": [
            "Dataset(path='hub://vishnusharma7/Customer_Support_chatbot', tensors=['embedding', 'id', 'metadata', 'text'])\n",
            "\n",
            "  tensor      htype       shape      dtype  compression\n",
            "  -------    -------     -------    -------  ------- \n",
            " embedding  embedding  (166, 1536)  float32   None   \n",
            "    id        text      (166, 1)      str     None   \n",
            " metadata     json      (166, 1)      str     None   \n",
            "   text       text      (166, 1)      str     None   \n"
          ]
        },
        {
          "name": "stderr",
          "output_type": "stream",
          "text": [
            "\r \r"
          ]
        },
        {
          "data": {
            "text/plain": [
              "['e547aa1e-4700-11ee-8a7c-0242ac1c000c',\n",
              " 'e547abae-4700-11ee-8a7c-0242ac1c000c',\n",
              " 'e547ac6c-4700-11ee-8a7c-0242ac1c000c',\n",
              " 'e547ad0c-4700-11ee-8a7c-0242ac1c000c',\n",
              " 'e547ada2-4700-11ee-8a7c-0242ac1c000c',\n",
              " 'e547af0a-4700-11ee-8a7c-0242ac1c000c',\n",
              " 'e547afdc-4700-11ee-8a7c-0242ac1c000c',\n",
              " 'e547b072-4700-11ee-8a7c-0242ac1c000c',\n",
              " 'e547b0fe-4700-11ee-8a7c-0242ac1c000c',\n",
              " 'e547b180-4700-11ee-8a7c-0242ac1c000c',\n",
              " 'e547b216-4700-11ee-8a7c-0242ac1c000c',\n",
              " 'e547b31a-4700-11ee-8a7c-0242ac1c000c',\n",
              " 'e547b3a6-4700-11ee-8a7c-0242ac1c000c',\n",
              " 'e547b464-4700-11ee-8a7c-0242ac1c000c',\n",
              " 'e547b4fa-4700-11ee-8a7c-0242ac1c000c',\n",
              " 'e547b590-4700-11ee-8a7c-0242ac1c000c',\n",
              " 'e547b61c-4700-11ee-8a7c-0242ac1c000c',\n",
              " 'e547b69e-4700-11ee-8a7c-0242ac1c000c',\n",
              " 'e547b716-4700-11ee-8a7c-0242ac1c000c',\n",
              " 'e547b77a-4700-11ee-8a7c-0242ac1c000c',\n",
              " 'e547b7e8-4700-11ee-8a7c-0242ac1c000c',\n",
              " 'e547b856-4700-11ee-8a7c-0242ac1c000c',\n",
              " 'e547b8ce-4700-11ee-8a7c-0242ac1c000c',\n",
              " 'e547b95a-4700-11ee-8a7c-0242ac1c000c',\n",
              " 'e547b9f0-4700-11ee-8a7c-0242ac1c000c',\n",
              " 'e547ba7c-4700-11ee-8a7c-0242ac1c000c',\n",
              " 'e547bb08-4700-11ee-8a7c-0242ac1c000c',\n",
              " 'e547bb94-4700-11ee-8a7c-0242ac1c000c',\n",
              " 'e547bc2a-4700-11ee-8a7c-0242ac1c000c',\n",
              " 'e547bca2-4700-11ee-8a7c-0242ac1c000c',\n",
              " 'e547bd24-4700-11ee-8a7c-0242ac1c000c',\n",
              " 'e547bd9c-4700-11ee-8a7c-0242ac1c000c',\n",
              " 'e547be0a-4700-11ee-8a7c-0242ac1c000c',\n",
              " 'e547be8c-4700-11ee-8a7c-0242ac1c000c',\n",
              " 'e547bf0e-4700-11ee-8a7c-0242ac1c000c',\n",
              " 'e547bf7c-4700-11ee-8a7c-0242ac1c000c',\n",
              " 'e547bfe0-4700-11ee-8a7c-0242ac1c000c',\n",
              " 'e547c058-4700-11ee-8a7c-0242ac1c000c',\n",
              " 'e547c0da-4700-11ee-8a7c-0242ac1c000c',\n",
              " 'e547c166-4700-11ee-8a7c-0242ac1c000c',\n",
              " 'e547c1fc-4700-11ee-8a7c-0242ac1c000c',\n",
              " 'e547c27e-4700-11ee-8a7c-0242ac1c000c',\n",
              " 'e547c300-4700-11ee-8a7c-0242ac1c000c',\n",
              " 'e547c36e-4700-11ee-8a7c-0242ac1c000c',\n",
              " 'e547c3f0-4700-11ee-8a7c-0242ac1c000c',\n",
              " 'e547c490-4700-11ee-8a7c-0242ac1c000c',\n",
              " 'e547c526-4700-11ee-8a7c-0242ac1c000c',\n",
              " 'e547c5b2-4700-11ee-8a7c-0242ac1c000c',\n",
              " 'e547c652-4700-11ee-8a7c-0242ac1c000c',\n",
              " 'e547c6d4-4700-11ee-8a7c-0242ac1c000c',\n",
              " 'e547c774-4700-11ee-8a7c-0242ac1c000c',\n",
              " 'e547c800-4700-11ee-8a7c-0242ac1c000c',\n",
              " 'e547c88c-4700-11ee-8a7c-0242ac1c000c',\n",
              " 'e547c90e-4700-11ee-8a7c-0242ac1c000c',\n",
              " 'e547c9a4-4700-11ee-8a7c-0242ac1c000c',\n",
              " 'e547caa8-4700-11ee-8a7c-0242ac1c000c',\n",
              " 'e547cb5c-4700-11ee-8a7c-0242ac1c000c',\n",
              " 'e547cc1a-4700-11ee-8a7c-0242ac1c000c',\n",
              " 'e547cdaa-4700-11ee-8a7c-0242ac1c000c',\n",
              " 'e547ce54-4700-11ee-8a7c-0242ac1c000c',\n",
              " 'e547cee0-4700-11ee-8a7c-0242ac1c000c',\n",
              " 'e547cf76-4700-11ee-8a7c-0242ac1c000c',\n",
              " 'e547d00c-4700-11ee-8a7c-0242ac1c000c',\n",
              " 'e547d08e-4700-11ee-8a7c-0242ac1c000c',\n",
              " 'e547d106-4700-11ee-8a7c-0242ac1c000c',\n",
              " 'e547d17e-4700-11ee-8a7c-0242ac1c000c',\n",
              " 'e547d1ec-4700-11ee-8a7c-0242ac1c000c',\n",
              " 'e547d25a-4700-11ee-8a7c-0242ac1c000c',\n",
              " 'e547d2d2-4700-11ee-8a7c-0242ac1c000c',\n",
              " 'e547d354-4700-11ee-8a7c-0242ac1c000c',\n",
              " 'e547d3e0-4700-11ee-8a7c-0242ac1c000c',\n",
              " 'e547d46c-4700-11ee-8a7c-0242ac1c000c',\n",
              " 'e547d502-4700-11ee-8a7c-0242ac1c000c',\n",
              " 'e547d642-4700-11ee-8a7c-0242ac1c000c',\n",
              " 'e547d6e2-4700-11ee-8a7c-0242ac1c000c',\n",
              " 'e547d75a-4700-11ee-8a7c-0242ac1c000c',\n",
              " 'e547d7d2-4700-11ee-8a7c-0242ac1c000c',\n",
              " 'e547d87c-4700-11ee-8a7c-0242ac1c000c',\n",
              " 'e547d8f4-4700-11ee-8a7c-0242ac1c000c',\n",
              " 'e547d976-4700-11ee-8a7c-0242ac1c000c',\n",
              " 'e547d9da-4700-11ee-8a7c-0242ac1c000c',\n",
              " 'e547da3e-4700-11ee-8a7c-0242ac1c000c',\n",
              " 'e547daca-4700-11ee-8a7c-0242ac1c000c',\n",
              " 'e547db4c-4700-11ee-8a7c-0242ac1c000c',\n",
              " 'e547dc3c-4700-11ee-8a7c-0242ac1c000c',\n",
              " 'e547dcdc-4700-11ee-8a7c-0242ac1c000c',\n",
              " 'e547dd5e-4700-11ee-8a7c-0242ac1c000c',\n",
              " 'e547ddfe-4700-11ee-8a7c-0242ac1c000c',\n",
              " 'e547de8a-4700-11ee-8a7c-0242ac1c000c',\n",
              " 'e547df16-4700-11ee-8a7c-0242ac1c000c',\n",
              " 'e547dfa2-4700-11ee-8a7c-0242ac1c000c',\n",
              " 'e547e02e-4700-11ee-8a7c-0242ac1c000c',\n",
              " 'e547e0b0-4700-11ee-8a7c-0242ac1c000c',\n",
              " 'e547e146-4700-11ee-8a7c-0242ac1c000c',\n",
              " 'e547e1dc-4700-11ee-8a7c-0242ac1c000c',\n",
              " 'e547e268-4700-11ee-8a7c-0242ac1c000c',\n",
              " 'e547e2fe-4700-11ee-8a7c-0242ac1c000c',\n",
              " 'e547e380-4700-11ee-8a7c-0242ac1c000c',\n",
              " 'e547e40c-4700-11ee-8a7c-0242ac1c000c',\n",
              " 'e547e498-4700-11ee-8a7c-0242ac1c000c',\n",
              " 'e547e51a-4700-11ee-8a7c-0242ac1c000c',\n",
              " 'e547e5a6-4700-11ee-8a7c-0242ac1c000c',\n",
              " 'e547e628-4700-11ee-8a7c-0242ac1c000c',\n",
              " 'e547e6b4-4700-11ee-8a7c-0242ac1c000c',\n",
              " 'e547e736-4700-11ee-8a7c-0242ac1c000c',\n",
              " 'e547e7b8-4700-11ee-8a7c-0242ac1c000c',\n",
              " 'e547e844-4700-11ee-8a7c-0242ac1c000c',\n",
              " 'e547e8bc-4700-11ee-8a7c-0242ac1c000c',\n",
              " 'e547e934-4700-11ee-8a7c-0242ac1c000c',\n",
              " 'e547e9de-4700-11ee-8a7c-0242ac1c000c',\n",
              " 'e547ea6a-4700-11ee-8a7c-0242ac1c000c',\n",
              " 'e547eaf6-4700-11ee-8a7c-0242ac1c000c',\n",
              " 'e547eb6e-4700-11ee-8a7c-0242ac1c000c',\n",
              " 'e547ebe6-4700-11ee-8a7c-0242ac1c000c',\n",
              " 'e547ec4a-4700-11ee-8a7c-0242ac1c000c',\n",
              " 'e547ecb8-4700-11ee-8a7c-0242ac1c000c',\n",
              " 'e547ed30-4700-11ee-8a7c-0242ac1c000c',\n",
              " 'e547edb2-4700-11ee-8a7c-0242ac1c000c',\n",
              " 'e547ee3e-4700-11ee-8a7c-0242ac1c000c',\n",
              " 'e547eeca-4700-11ee-8a7c-0242ac1c000c',\n",
              " 'e547ef60-4700-11ee-8a7c-0242ac1c000c',\n",
              " 'e547efe2-4700-11ee-8a7c-0242ac1c000c',\n",
              " 'e547f06e-4700-11ee-8a7c-0242ac1c000c',\n",
              " 'e547f0e6-4700-11ee-8a7c-0242ac1c000c',\n",
              " 'e547f15e-4700-11ee-8a7c-0242ac1c000c',\n",
              " 'e547f1cc-4700-11ee-8a7c-0242ac1c000c',\n",
              " 'e547f23a-4700-11ee-8a7c-0242ac1c000c',\n",
              " 'e547f2b2-4700-11ee-8a7c-0242ac1c000c',\n",
              " 'e547f32a-4700-11ee-8a7c-0242ac1c000c',\n",
              " 'e547f3ac-4700-11ee-8a7c-0242ac1c000c',\n",
              " 'e547f492-4700-11ee-8a7c-0242ac1c000c',\n",
              " 'e547f514-4700-11ee-8a7c-0242ac1c000c',\n",
              " 'e547f58c-4700-11ee-8a7c-0242ac1c000c',\n",
              " 'e547f618-4700-11ee-8a7c-0242ac1c000c',\n",
              " 'e547f6a4-4700-11ee-8a7c-0242ac1c000c',\n",
              " 'e547f71c-4700-11ee-8a7c-0242ac1c000c',\n",
              " 'e547f794-4700-11ee-8a7c-0242ac1c000c',\n",
              " 'e547f816-4700-11ee-8a7c-0242ac1c000c',\n",
              " 'e547f898-4700-11ee-8a7c-0242ac1c000c',\n",
              " 'e547f91a-4700-11ee-8a7c-0242ac1c000c',\n",
              " 'e547f9b0-4700-11ee-8a7c-0242ac1c000c',\n",
              " 'e547fa32-4700-11ee-8a7c-0242ac1c000c',\n",
              " 'e547fab4-4700-11ee-8a7c-0242ac1c000c',\n",
              " 'e547fb40-4700-11ee-8a7c-0242ac1c000c',\n",
              " 'e547fc12-4700-11ee-8a7c-0242ac1c000c',\n",
              " 'e547ff28-4700-11ee-8a7c-0242ac1c000c',\n",
              " 'e547fffa-4700-11ee-8a7c-0242ac1c000c',\n",
              " 'e5480086-4700-11ee-8a7c-0242ac1c000c',\n",
              " 'e5480108-4700-11ee-8a7c-0242ac1c000c',\n",
              " 'e54801a8-4700-11ee-8a7c-0242ac1c000c',\n",
              " 'e5480234-4700-11ee-8a7c-0242ac1c000c',\n",
              " 'e54802ac-4700-11ee-8a7c-0242ac1c000c',\n",
              " 'e5480324-4700-11ee-8a7c-0242ac1c000c',\n",
              " 'e54803a6-4700-11ee-8a7c-0242ac1c000c',\n",
              " 'e548043c-4700-11ee-8a7c-0242ac1c000c',\n",
              " 'e54804be-4700-11ee-8a7c-0242ac1c000c',\n",
              " 'e5480536-4700-11ee-8a7c-0242ac1c000c']"
            ]
          },
          "execution_count": 20,
          "metadata": {},
          "output_type": "execute_result"
        }
      ],
      "source": [
        "# Uploading the data to vector databases\n",
        "db.add_documents(split)"
      ]
    },
    {
      "cell_type": "code",
      "execution_count": 14,
      "id": "4rJFdWs3yuTG",
      "metadata": {
        "colab": {
          "base_uri": "https://localhost:8080/"
        },
        "id": "4rJFdWs3yuTG",
        "outputId": "b10d4081-d4c4-4120-8f57-4c745451f44e"
      },
      "outputs": [
        {
          "name": "stdout",
          "output_type": "stream",
          "text": [
            "As quoted by news agency PTI, Director Desai said: \"On August 23, two hours before Chandrayaan-3 lands on the Moon, we will decide on whether or not it will be appropriate to land it at that time based on the health of the lander module and the conditions on the moon.\"\n",
            "\n",
            "\"In case, if any factor appears to be not favourable, then we will land the module on the moon on August 27. No problem should occur and we will be able to land the module on August 23,\" Desai added.\n",
            "\n",
            "In the latest update, ISRO shared pictures of the lunar far side captured by the Lander Hazard Detection and Avoidance Camera (LHDAC). The Indian space agency also thanked everyone for the wishes and positivity for the mission as the Indian space agency said that Chandrayaan-3 is set to land on the Moon on August 23 around 6:04 pm IST.\n"
          ]
        }
      ],
      "source": [
        "# Inference\n",
        "query = \"When is chandrayaan-3 is going to land on moon?\"\n",
        "ans = db.similarity_search(query)\n",
        "\n",
        "print(ans[0].page_content)"
      ]
    },
    {
      "cell_type": "markdown",
      "id": "8byriqFGOB2Z",
      "metadata": {
        "id": "8byriqFGOB2Z"
      },
      "source": [
        "### Crafting a Prompt"
      ]
    },
    {
      "cell_type": "code",
      "execution_count": 16,
      "id": "0x0qIgqqNWXz",
      "metadata": {
        "id": "0x0qIgqqNWXz"
      },
      "outputs": [],
      "source": [
        "template = \"\"\" You are a extraordinary customer support chatbot that answer questions.\n",
        "\n",
        "You know the context information which will be entered via {context} input.\n",
        "\n",
        "You have to answer the questions based on the context information, You are not allowed to invent answes by yourself.\n",
        "\n",
        "Question = {query}\n",
        "\n",
        "Answer:\n",
        "\n",
        "\"\"\"\n",
        "\n",
        "prompt = PromptTemplate(\n",
        "    input_variables = [\"context\", \"query\"],\n",
        "    template=template\n",
        ")\n",
        "\n",
        "query = \"What is chandrayaan-3's mission?\"\n",
        "\n",
        "docs = db.similarity_search(query)\n",
        "\n",
        "retrieved_docs = [doc.page_content for doc in docs]\n",
        "\n",
        "context = \"\\n\\n\".join(retrieved_docs)\n",
        "\n",
        "final_prompt = prompt.format(context=context, query=query)\n"
      ]
    },
    {
      "cell_type": "code",
      "execution_count": 17,
      "id": "cOFZ_ykhI90B",
      "metadata": {
        "colab": {
          "base_uri": "https://localhost:8080/"
        },
        "id": "cOFZ_ykhI90B",
        "outputId": "0ce462fb-3e2d-4ddf-d884-a277bc80871b"
      },
      "outputs": [
        {
          "name": "stdout",
          "output_type": "stream",
          "text": [
            "Chandrayaan-3's mission is to traverse a distance of approximately half a kilometre on the moon's surface over the next 12 days, capturing vital images and data.\n"
          ]
        }
      ],
      "source": [
        "llm = OpenAI(model='text-davinci-003', temperature=0)\n",
        "answer = llm(final_prompt)\n",
        "\n",
        "print(answer)"
      ]
    },
    {
      "cell_type": "code",
      "execution_count": null,
      "id": "SlBS7egsKx8B",
      "metadata": {
        "id": "SlBS7egsKx8B"
      },
      "outputs": [],
      "source": []
    }
  ],
  "metadata": {
    "colab": {
      "provenance": []
    },
    "kernelspec": {
      "display_name": "Python 3 (ipykernel)",
      "language": "python",
      "name": "python3"
    },
    "language_info": {
      "codemirror_mode": {
        "name": "ipython",
        "version": 3
      },
      "file_extension": ".py",
      "mimetype": "text/x-python",
      "name": "python",
      "nbconvert_exporter": "python",
      "pygments_lexer": "ipython3",
      "version": "3.11.3"
    }
  },
  "nbformat": 4,
  "nbformat_minor": 5
}
