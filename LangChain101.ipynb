{
 "cells": [
  {
   "cell_type": "markdown",
   "id": "3af27ba4",
   "metadata": {},
   "source": [
    "## The LLMs"
   ]
  },
  {
   "cell_type": "code",
   "execution_count": null,
   "id": "47b251c9",
   "metadata": {},
   "outputs": [],
   "source": [
    "from langchain.llms import OpenAI"
   ]
  },
  {
   "cell_type": "code",
   "execution_count": null,
   "id": "4ff3b607",
   "metadata": {},
   "outputs": [],
   "source": [
    "# Before executing the following code, make sure to have\n",
    "# your OpenAI key saved in the “OPENAI_API_KEY” environment variable.\n",
    "llm = OpenAI(model=\"text-davinci-003\", temperature=0.9)"
   ]
  },
  {
   "cell_type": "code",
   "execution_count": null,
   "id": "df5c05d1",
   "metadata": {},
   "outputs": [],
   "source": [
    "text = \"Suggest a personalized workout routine for someone with thin body & looking to improve cardiovascular endurance and prefers indoor activities.\"\n",
    "print(llm(text))"
   ]
  },
  {
   "cell_type": "markdown",
   "id": "b5967c65",
   "metadata": {},
   "source": [
    "## The Chains"
   ]
  },
  {
   "cell_type": "code",
   "execution_count": 2,
   "id": "afdb5a7c",
   "metadata": {
    "scrolled": true
   },
   "outputs": [
    {
     "name": "stdout",
     "output_type": "stream",
     "text": [
      "\n",
      "\n",
      "MightySUV Motors.\n"
     ]
    }
   ],
   "source": [
    "from langchain.prompts import PromptTemplate\n",
    "from langchain.llms import OpenAI\n",
    "from langchain.chains import LLMChain\n",
    "\n",
    "llm = OpenAI(model=\"text-davinci-003\", temperature=0.9)\n",
    "prompt = PromptTemplate(\n",
    "    input_variables=[\"product\"],\n",
    "    template=\"What is a good name for a company that makes {product}?\",\n",
    ")\n",
    "\n",
    "chain = LLMChain(llm=llm, prompt=prompt)\n",
    "\n",
    "# Run the chain only specifying the input variable.\n",
    "print(chain.run(\"SUVs\"))"
   ]
  },
  {
   "cell_type": "markdown",
   "id": "c8646999",
   "metadata": {},
   "source": [
    "## The Memory"
   ]
  },
  {
   "cell_type": "code",
   "execution_count": null,
   "id": "37cb1053",
   "metadata": {},
   "outputs": [],
   "source": [
    "from langchain.llms import OpenAI\n",
    "from langchain.chains import ConversationChain\n",
    "from langchain.memory import ConversationBufferMemory\n",
    "\n",
    "llm = OpenAI(model=\"text-davinci-003\", temperature=0)\n",
    "conversation = ConversationChain(\n",
    "    llm=llm,\n",
    "    verbose=True,\n",
    "    memory=ConversationBufferMemory()\n",
    ")\n",
    "\n",
    "# Start the conversation\n",
    "conversation.predict(input=\"Tell me about yourself.\")\n",
    "\n",
    "# Continue the conversation\n",
    "conversation.predict(input=\"What can you do?\")\n",
    "conversation.predict(input=\"How can you help me with data analysis?\")\n",
    "\n",
    "# Display the conversation\n",
    "print(conversation)"
   ]
  },
  {
   "cell_type": "markdown",
   "id": "7917f3e7",
   "metadata": {},
   "source": [
    "## Deep Lake Vector Store"
   ]
  },
  {
   "cell_type": "code",
   "execution_count": 3,
   "id": "fee76b7f",
   "metadata": {},
   "outputs": [
    {
     "name": "stdout",
     "output_type": "stream",
     "text": [
      "Your Deep Lake dataset has been successfully created!\n"
     ]
    },
    {
     "name": "stderr",
     "output_type": "stream",
     "text": [
      " \r"
     ]
    },
    {
     "name": "stdout",
     "output_type": "stream",
     "text": [
      "Dataset(path='hub://vishnusharma7/langchain_course_from_zero_to_hero', tensors=['embedding', 'id', 'metadata', 'text'])\n",
      "\n",
      "  tensor      htype      shape     dtype  compression\n",
      "  -------    -------    -------   -------  ------- \n",
      " embedding  embedding  (2, 1536)  float32   None   \n",
      "    id        text      (2, 1)      str     None   \n",
      " metadata     json      (2, 1)      str     None   \n",
      "   text       text      (2, 1)      str     None   \n"
     ]
    },
    {
     "data": {
      "text/plain": [
       "['b62293a2-2e12-11ee-b60b-847beb0e9772',\n",
       " 'b62293a3-2e12-11ee-98a7-847beb0e9772']"
      ]
     },
     "execution_count": 3,
     "metadata": {},
     "output_type": "execute_result"
    }
   ],
   "source": [
    "from langchain.embeddings.openai import OpenAIEmbeddings\n",
    "from langchain.vectorstores import DeepLake\n",
    "from langchain.text_splitter import RecursiveCharacterTextSplitter\n",
    "from langchain.llms import OpenAI\n",
    "from langchain.chains import RetrievalQA\n",
    "\n",
    "# Before executing the following code, make sure to have your\n",
    "# Activeloop key saved in the “ACTIVELOOP_TOKEN” environment variable.\n",
    "\n",
    "# instantiate the LLM and embeddings models\n",
    "llm = OpenAI(model=\"text-davinci-003\", temperature=0)\n",
    "embeddings = OpenAIEmbeddings(model=\"text-embedding-ada-002\")\n",
    "\n",
    "# create our documents\n",
    "texts = [\n",
    "    \"Napoleon Bonaparte was born in 15 August 1769\",\n",
    "    \"Louis XIV was born in 5 September 1638\"\n",
    "]\n",
    "text_splitter = RecursiveCharacterTextSplitter(chunk_size=1000, chunk_overlap=0)\n",
    "docs = text_splitter.create_documents(texts)\n",
    "\n",
    "# create Deep Lake dataset\n",
    "# TODO: use your organization id here. (by default, org id is your username)\n",
    "my_activeloop_org_id = \"vishnusharma7\" \n",
    "my_activeloop_dataset_name = \"langchain_course_from_zero_to_hero\"\n",
    "dataset_path = f\"hub://{my_activeloop_org_id}/{my_activeloop_dataset_name}\"\n",
    "db = DeepLake(dataset_path=dataset_path, embedding_function=embeddings)\n",
    "\n",
    "# add documents to our Deep Lake dataset\n",
    "db.add_documents(docs)"
   ]
  },
  {
   "cell_type": "code",
   "execution_count": 4,
   "id": "e952e8f8",
   "metadata": {},
   "outputs": [],
   "source": [
    "retrieval_qa = RetrievalQA.from_chain_type(\n",
    "    llm=llm,\n",
    "    chain_type=\"stuff\",\n",
    "    retriever=db.as_retriever()\n",
    ")"
   ]
  },
  {
   "cell_type": "code",
   "execution_count": 5,
   "id": "d633e938",
   "metadata": {},
   "outputs": [],
   "source": [
    "from langchain.agents import initialize_agent, Tool\n",
    "from langchain.agents import AgentType\n",
    "\n",
    "tools = [\n",
    "    Tool(\n",
    "        name=\"Retrieval QA System\",\n",
    "        func=retrieval_qa.run,\n",
    "        description=\"Useful for answering questions.\"\n",
    "    ),\n",
    "]\n",
    "\n",
    "agent = initialize_agent(\n",
    "    tools,\n",
    "    llm,\n",
    "    agent=AgentType.ZERO_SHOT_REACT_DESCRIPTION,\n",
    "    verbose=True\n",
    ")"
   ]
  },
  {
   "cell_type": "code",
   "execution_count": 6,
   "id": "3d494df2",
   "metadata": {},
   "outputs": [
    {
     "name": "stdout",
     "output_type": "stream",
     "text": [
      "\n",
      "\n",
      "\u001b[1m> Entering new  chain...\u001b[0m\n",
      "\u001b[32;1m\u001b[1;3m I need to find out when Napoleone was born.\n",
      "Action: Retrieval QA System\n",
      "Action Input: When was Napoleone born?\u001b[0m\n",
      "Observation: \u001b[36;1m\u001b[1;3m Napoleon Bonaparte was born on 15 August 1769.\u001b[0m\n",
      "Thought:\u001b[32;1m\u001b[1;3m I now know the final answer.\n",
      "Final Answer: Napoleon Bonaparte was born on 15 August 1769.\u001b[0m\n",
      "\n",
      "\u001b[1m> Finished chain.\u001b[0m\n",
      "Napoleon Bonaparte was born on 15 August 1769.\n"
     ]
    }
   ],
   "source": [
    "response = agent.run(\"When was Napoleone born?\")\n",
    "print(response)"
   ]
  },
  {
   "cell_type": "markdown",
   "id": "92fc411b",
   "metadata": {},
   "source": [
    "## Agents in LangChain"
   ]
  },
  {
   "cell_type": "code",
   "execution_count": 1,
   "id": "c00e7af2",
   "metadata": {},
   "outputs": [],
   "source": [
    "from langchain.llms import OpenAI\n",
    "\n",
    "from langchain.agents import AgentType\n",
    "from langchain.agents import load_tools\n",
    "from langchain.agents import initialize_agent\n",
    "\n",
    "from langchain.agents import Tool\n",
    "from langchain.utilities import GoogleSearchAPIWrapper"
   ]
  },
  {
   "cell_type": "code",
   "execution_count": 2,
   "id": "8b2efd77",
   "metadata": {},
   "outputs": [],
   "source": [
    "llm = OpenAI(model=\"text-davinci-003\", temperature=0)"
   ]
  },
  {
   "cell_type": "code",
   "execution_count": 3,
   "id": "513aa4ec",
   "metadata": {},
   "outputs": [],
   "source": [
    "# remember to set the environment variables\n",
    "# “GOOGLE_API_KEY” and “GOOGLE_CSE_ID” to be able to use\n",
    "# Google Search via API.\n",
    "search = GoogleSearchAPIWrapper()"
   ]
  },
  {
   "cell_type": "code",
   "execution_count": 4,
   "id": "c2368686",
   "metadata": {},
   "outputs": [],
   "source": [
    "tools = [\n",
    "    Tool(\n",
    "        name = \"google-search\",\n",
    "        func=search.run,\n",
    "        description=\"useful for when you need to search google to answer questions about current events\"\n",
    "    )\n",
    "]"
   ]
  },
  {
   "cell_type": "code",
   "execution_count": 5,
   "id": "c6430e54",
   "metadata": {},
   "outputs": [],
   "source": [
    "agent = initialize_agent(tools, \n",
    "                         llm, \n",
    "                         agent=AgentType.ZERO_SHOT_REACT_DESCRIPTION, \n",
    "                         verbose=True,\n",
    "                         max_iterations=6)"
   ]
  },
  {
   "cell_type": "code",
   "execution_count": 7,
   "id": "881c7516",
   "metadata": {},
   "outputs": [
    {
     "name": "stdout",
     "output_type": "stream",
     "text": [
      "\n",
      "\n",
      "\u001b[1m> Entering new  chain...\u001b[0m\n",
      "\u001b[32;1m\u001b[1;3m I need to find out the latest news about the Mars rover\n",
      "Action: google-search\n",
      "Action Input: \"latest news Mars rover\"\u001b[0m\n",
      "Observation: \u001b[36;1m\u001b[1;3mThe mission has concluded that the solar-powered lander has run out of energy after more than four years on the Red Planet. Dec 15, 2021 ... Mars Sample Return is going to have great stuff to choose from!” Get the Latest JPL News. SUBSCRIBE TO THE NEWSLETTER. Look for the latest news on the Mars Science Laboratory, Curiosity Rover. Curiosity rover finds water-carved 'book' rock on Mars (photo) ... A book-shaped rock on Mars was likely carved by ancient water running through the area, ... Get the latest news releases about the Perseverance rover mission. Oct 19, 2022 ... NASA's Curiosity Mars rover used its Mast Camera, or Mastcam, to capture this panorama of a hill nicknamed ... Get the Latest JPL News. Blog updates written by Mars Perseverance mission team members. ... After our exploration of a boulder field last week, Perseverance is continuing the Upper ... Feb 8, 2023 ... “Mars' ancient climate had a wonderful complexity to it, much like Earth's.” Get the Latest JPL News. SUBSCRIBE TO THE NEWSLETTER ... Apr 25, 2023 ... China's Mars rover, which has been in longer-than-expected hibernation on the red planet since May 2022, has likely suffered excessive ... Jun 28, 2023 ... GOLDEN, Colorado - Breathe easy: There's good news from Mars. ... books on space exploration, Mars missions and more, with his latest being ...\u001b[0m\n",
      "Thought:\u001b[32;1m\u001b[1;3m I now know the final answer\n",
      "Final Answer: The latest news about the Mars rover is that the mission has concluded that the solar-powered lander has run out of energy after more than four years on the Red Planet. China's Mars rover has likely suffered excessive damage due to a longer-than-expected hibernation on the red planet since May 2022. Perseverance is continuing the Upper Martian atmosphere exploration and Curiosity rover has found a water-carved 'book' rock on Mars. There is also good news from Mars that there is no evidence of life on the planet.\u001b[0m\n",
      "\n",
      "\u001b[1m> Finished chain.\u001b[0m\n",
      "The latest news about the Mars rover is that the mission has concluded that the solar-powered lander has run out of energy after more than four years on the Red Planet. China's Mars rover has likely suffered excessive damage due to a longer-than-expected hibernation on the red planet since May 2022. Perseverance is continuing the Upper Martian atmosphere exploration and Curiosity rover has found a water-carved 'book' rock on Mars. There is also good news from Mars that there is no evidence of life on the planet.\n"
     ]
    }
   ],
   "source": [
    "response = agent(\"What's the latest news about the Mars rover?\")\n",
    "print(response['output'])"
   ]
  },
  {
   "cell_type": "markdown",
   "id": "7f8986e0",
   "metadata": {},
   "source": [
    "## Tools in LangChain"
   ]
  },
  {
   "cell_type": "code",
   "execution_count": 8,
   "id": "81d1e107",
   "metadata": {},
   "outputs": [],
   "source": [
    "from langchain.llms import OpenAI\n",
    "from langchain.agents import Tool\n",
    "from langchain.utilities import GoogleSearchAPIWrapper\n",
    "from langchain.prompts import PromptTemplate\n",
    "from langchain.chains import LLMChain\n",
    "from langchain.agents import initialize_agent, AgentType"
   ]
  },
  {
   "cell_type": "code",
   "execution_count": 9,
   "id": "9b702f51",
   "metadata": {},
   "outputs": [],
   "source": [
    "llm = OpenAI(model=\"text-davinci-003\", temperature=0)\n",
    "\n",
    "prompt = PromptTemplate(\n",
    "    input_variables=[\"query\"],\n",
    "    template=\"Write a summary of the following text: {query}\"\n",
    ")\n",
    "\n",
    "summarize_chain = LLMChain(llm=llm, prompt=prompt)"
   ]
  },
  {
   "cell_type": "code",
   "execution_count": 10,
   "id": "65ff8d03",
   "metadata": {},
   "outputs": [],
   "source": [
    "# remember to set the environment variables\n",
    "# “GOOGLE_API_KEY” and “GOOGLE_CSE_ID” to be able to use\n",
    "# Google Search via API.\n",
    "search = GoogleSearchAPIWrapper()\n",
    "\n",
    "tools = [\n",
    "    Tool(\n",
    "        name=\"Search\",\n",
    "        func=search.run,\n",
    "        description=\"useful for finding information about recent events\"\n",
    "    ),\n",
    "    Tool(\n",
    "       name='Summarizer',\n",
    "       func=summarize_chain.run,\n",
    "       description='useful for summarizing texts'\n",
    "    )\n",
    "]"
   ]
  },
  {
   "cell_type": "code",
   "execution_count": 11,
   "id": "befae613",
   "metadata": {},
   "outputs": [],
   "source": [
    "agent = initialize_agent(\n",
    "    tools,\n",
    "    llm,\n",
    "    agent=AgentType.ZERO_SHOT_REACT_DESCRIPTION,\n",
    "    verbose=True  \n",
    ")"
   ]
  },
  {
   "cell_type": "code",
   "execution_count": 12,
   "id": "ed1e6044",
   "metadata": {},
   "outputs": [
    {
     "name": "stdout",
     "output_type": "stream",
     "text": [
      "\n",
      "\n",
      "\u001b[1m> Entering new  chain...\u001b[0m\n",
      "\u001b[32;1m\u001b[1;3m I need to find the latest news about the Range Rover Sport SV and then summarize it.\n",
      "Action: Search\n",
      "Action Input: \"Range Rover Sport SV news\"\u001b[0m\n",
      "Observation: \u001b[36;1m\u001b[1;3mRANGE ROVER SV CARMEL EDITION MAKES ITS DEBUT AT RANGE ROVER HOUSE. (MAHWAH, N.J.) – August 19, 2022 – Jaguar Land Rover North America revealed the Ultra- ... May 12, 2023 ... Land Rover redesigned the Range Rover Sport for 2023, and soon the SUV's high-performance variant developed by the SVO special projects ... May 31, 2023 ... The impressive figure from the 4.4-liter V-8 makes this the most powerful Range Rover Sport ever, with an estimated sprint to 60 mph in 3.6 ... Get the latest on new Land Rover Range Rover Sport models including first drives, in-depth reviews, concept car photos, new features, recalls and more. May 30, 2023 ... The Range Rover Sport SV replaces the old SVR. You remember that, of course: often painted bright blue, made a noise like Hercules gargling ... May 31, 2023 ... Performance flagship: New Range Rover Sport SV combines sporting luxury with innovative performance-enhancing technologies ... May 31, 2023 ... Range Rover Sport SV runs on 23-inch carbon fibre wheels with optional carbon ceramic brakes. Jun 1, 2023 ... No, the new Sport SV is not an electric Range Rover. It's not even an electric Land Rover, technically. But it is electrified, ... Apr 23, 2023 ... The successor to Range Rover Sport SVR will initially come with a limited-edition specification and will be offered by invitation only. The ... Under the hood of the Range Rover Sport SV is a twin-turbo 4.4-litre V8 developed by BMW. ... Published on June 1, 2023 in News by Guillaume Rivard ...\u001b[0m\n",
      "Thought:\u001b[32;1m\u001b[1;3m I need to summarize the results.\n",
      "Action: Summarizer\n",
      "Action Input: RANGE ROVER SV CARMEL EDITION MAKES ITS DEBUT AT RANGE ROVER HOUSE. (MAHWAH, N.J.) – August 19, 2022 – Jaguar Land Rover North America revealed the Ultra- ... May 12, 2023 ... Land Rover redesigned the Range Rover Sport for 2023, and soon the SUV's high-performance variant developed by the SVO special projects ... May 31, 2023 ... The impressive figure from the 4.4-liter V-8 makes this the most powerful Range Rover Sport ever, with an estimated sprint to 60 mph in 3.6 ... Get the latest on new Land Rover Range Rover Sport models including first drives, in-depth reviews, concept car photos, new features, recalls and more. May 30, 2023 ... The Range Rover Sport SV replaces the old SVR. You remember that, of course: often painted bright blue, made a noise like Hercules gargling ... May 31, 2023 ... Performance flagship: New Range Rover Sport SV combines sporting luxury with innovative performance-enhancing technologies ... May 31, 2023 ... Range Rover Sport SV runs on 23-inch carbon fibre wheels\u001b[0m\n",
      "Observation: \u001b[33;1m\u001b[1;3m and features a unique exterior design.\n",
      "\n",
      "Jaguar Land Rover North America has revealed the Range Rover Sport SV Carmel Edition, the high-performance variant of the Range Rover Sport SUV. Developed by the SVO special projects team, the Range Rover Sport SV is the most powerful Range Rover Sport ever, with a 4.4-liter V-8 engine that can reach 60 mph in 3.6 seconds. It features a unique exterior design, 23-inch carbon fibre wheels, and a noise like Hercules gargling. It is the performance flagship of the Range Rover Sport, combining sporting luxury with innovative performance-enhancing technologies.\u001b[0m\n",
      "Thought:"
     ]
    },
    {
     "name": "stderr",
     "output_type": "stream",
     "text": [
      "Retrying langchain.llms.openai.completion_with_retry.<locals>._completion_with_retry in 4.0 seconds as it raised RateLimitError: Rate limit reached for default-text-davinci-003 in organization org-UI2XgHYJMlcnd4QY1Nlbp1s6 on requests per min. Limit: 3 / min. Please try again in 20s. Contact us through our help center at help.openai.com if you continue to have issues. Please add a payment method to your account to increase your rate limit. Visit https://platform.openai.com/account/billing to add a payment method..\n",
      "Retrying langchain.llms.openai.completion_with_retry.<locals>._completion_with_retry in 4.0 seconds as it raised RateLimitError: Rate limit reached for default-text-davinci-003 in organization org-UI2XgHYJMlcnd4QY1Nlbp1s6 on requests per min. Limit: 3 / min. Please try again in 20s. Contact us through our help center at help.openai.com if you continue to have issues. Please add a payment method to your account to increase your rate limit. Visit https://platform.openai.com/account/billing to add a payment method..\n",
      "Retrying langchain.llms.openai.completion_with_retry.<locals>._completion_with_retry in 4.0 seconds as it raised RateLimitError: Rate limit reached for default-text-davinci-003 in organization org-UI2XgHYJMlcnd4QY1Nlbp1s6 on requests per min. Limit: 3 / min. Please try again in 20s. Contact us through our help center at help.openai.com if you continue to have issues. Please add a payment method to your account to increase your rate limit. Visit https://platform.openai.com/account/billing to add a payment method..\n"
     ]
    },
    {
     "name": "stdout",
     "output_type": "stream",
     "text": [
      "\u001b[32;1m\u001b[1;3m I now know the final answer.\n",
      "Final Answer: Jaguar Land Rover North America has revealed the Range Rover Sport SV Carmel Edition, the high-performance variant of the Range Rover Sport SUV. Developed by the SVO special projects team, the Range Rover Sport SV is the most powerful Range Rover Sport ever, with a 4.4-liter V-8 engine that can reach 60 mph in 3.6 seconds. It features a unique exterior design, 23-inch carbon fibre wheels, and a noise like Hercules gargling. It is the performance flagship of the Range Rover Sport, combining sporting luxury with innovative performance-enhancing technologies.\u001b[0m\n",
      "\n",
      "\u001b[1m> Finished chain.\u001b[0m\n",
      "Jaguar Land Rover North America has revealed the Range Rover Sport SV Carmel Edition, the high-performance variant of the Range Rover Sport SUV. Developed by the SVO special projects team, the Range Rover Sport SV is the most powerful Range Rover Sport ever, with a 4.4-liter V-8 engine that can reach 60 mph in 3.6 seconds. It features a unique exterior design, 23-inch carbon fibre wheels, and a noise like Hercules gargling. It is the performance flagship of the Range Rover Sport, combining sporting luxury with innovative performance-enhancing technologies.\n"
     ]
    }
   ],
   "source": [
    "response = agent(\"What's the latest news about the Range Rover Sport SV? Then please summarize the results.\")\n",
    "print(response['output'])"
   ]
  },
  {
   "cell_type": "code",
   "execution_count": null,
   "id": "3bff3eff",
   "metadata": {},
   "outputs": [],
   "source": []
  }
 ],
 "metadata": {
  "kernelspec": {
   "display_name": "Python 3 (ipykernel)",
   "language": "python",
   "name": "python3"
  },
  "language_info": {
   "codemirror_mode": {
    "name": "ipython",
    "version": 3
   },
   "file_extension": ".py",
   "mimetype": "text/x-python",
   "name": "python",
   "nbconvert_exporter": "python",
   "pygments_lexer": "ipython3",
   "version": "3.11.3"
  }
 },
 "nbformat": 4,
 "nbformat_minor": 5
}
